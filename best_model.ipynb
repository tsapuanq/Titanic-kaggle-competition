{
 "cells": [
  {
   "cell_type": "markdown",
   "id": "37232a73-1bb4-41ca-8cd1-88832299f591",
   "metadata": {},
   "source": [
    "#### Import neccessary libraries "
   ]
  },
  {
   "cell_type": "code",
   "execution_count": 59,
   "id": "529b869b-6020-4a74-aae6-47bae22fcafe",
   "metadata": {},
   "outputs": [],
   "source": [
    "import pandas as pd\n",
    "import numpy as np\n",
    "from sklearn.preprocessing import LabelEncoder\n",
    "from sklearn.model_selection import train_test_split\n",
    "from sklearn.ensemble import RandomForestClassifier\n",
    "from sklearn.metrics import accuracy_score\n",
    "from sklearn.model_selection import GridSearchCV"
   ]
  },
  {
   "cell_type": "markdown",
   "id": "ec82b13b-1b73-4dc0-b90c-86082edddbc0",
   "metadata": {},
   "source": [
    "#### Load datasets"
   ]
  },
  {
   "cell_type": "code",
   "execution_count": 60,
   "id": "854cbead-6cd7-4564-bb42-053b15bf979a",
   "metadata": {},
   "outputs": [],
   "source": [
    "train = pd.read_csv('train.csv')\n",
    "test = pd.read_csv('test.csv')\n",
    "\n",
    "#Saving it here to use in submission\n",
    "test_passId = test['PassengerId'] "
   ]
  },
  {
   "cell_type": "markdown",
   "id": "553154c1-556b-4876-8d56-82c0b6bcbff6",
   "metadata": {},
   "source": [
    "#### Data cleaning and some preprocessing"
   ]
  },
  {
   "cell_type": "code",
   "execution_count": 61,
   "id": "d28f52bb-6185-465f-950b-c453ba02a765",
   "metadata": {},
   "outputs": [],
   "source": [
    "def clean(data):\n",
    "    \n",
    "    drop = ['PassengerId', 'Cabin', 'Name', 'Ticket']\n",
    "    #Drop uneccessary columns \n",
    "    data.drop(columns=drop, inplace=True)  \n",
    "\n",
    "    columns = ['Age', 'Fare', 'SibSp', 'Parch']\n",
    "    #Fill all Nan values in numerical columns by median\n",
    "    for col in columns:\n",
    "        if data[col].notna().sum() > 0: \n",
    "            data[col].fillna(data[col].median(), inplace=True)  \n",
    "            \n",
    "    #Fill all Nan values in categorical columns by mode\n",
    "    if data['Embarked'].notna().sum() > 0:  \n",
    "        data['Embarked'].fillna(data['Embarked'].mode()[0], inplace=True) \n",
    "\n",
    "    return data\n",
    "\n",
    "train = clean(train)\n",
    "test = clean(test)\n"
   ]
  },
  {
   "cell_type": "code",
   "execution_count": 62,
   "id": "d7f284fb-a237-4aea-88d2-f8467647884c",
   "metadata": {},
   "outputs": [],
   "source": [
    "#Using label encoder to transform our categorical data\n",
    "label_encoder = LabelEncoder()\n",
    "\n",
    "train['Sex'] = label_encoder.fit_transform(train['Sex'])\n",
    "test['Sex'] = label_encoder.transform(test['Sex'])\n",
    "\n",
    "train['Embarked'] = label_encoder.fit_transform(train['Embarked'])\n",
    "test['Embarked'] = label_encoder.transform(test['Embarked'])"
   ]
  },
  {
   "cell_type": "markdown",
   "id": "b2bfae01-40e8-4a47-b553-0dc169520f31",
   "metadata": {},
   "source": [
    "#### Feature engineering "
   ]
  },
  {
   "cell_type": "code",
   "execution_count": 63,
   "id": "e4373847-97a6-4fd0-8451-dfba670ba6b5",
   "metadata": {},
   "outputs": [],
   "source": [
    "# Creating new features as Family size and IsAlone\n",
    "train[\"FamilySize\"] = train[\"SibSp\"] + train[\"Parch\"] + 1\n",
    "test[\"FamilySize\"] = test[\"SibSp\"] + test[\"Parch\"] + 1\n",
    "\n",
    "train[\"IsAlone\"] = (train[\"FamilySize\"] == 1).astype(int)\n",
    "test[\"IsAlone\"] = (test[\"FamilySize\"] == 1).astype(int)"
   ]
  },
  {
   "cell_type": "markdown",
   "id": "d257e685-351d-470d-8b8f-300b139951b5",
   "metadata": {},
   "source": [
    "#### Model training"
   ]
  },
  {
   "cell_type": "code",
   "execution_count": 64,
   "id": "b21fa2fa-978b-41a3-8a02-7d9fe843a89b",
   "metadata": {},
   "outputs": [],
   "source": [
    "#Separate to target variable\n",
    "y = train['Survived']\n",
    "X = train.drop(columns=['Survived'])\n",
    "\n",
    "#Splitting to train and test\n",
    "X_train, X_test, y_train, y_test = train_test_split(X, y, test_size=0.2, random_state=42)"
   ]
  },
  {
   "cell_type": "code",
   "execution_count": 65,
   "id": "ab0a7eb7-cccf-4fc6-92d0-cc52e8a52e99",
   "metadata": {},
   "outputs": [
    {
     "name": "stdout",
     "output_type": "stream",
     "text": [
      "0.8268156424581006\n",
      "Fitting 5 folds for each of 216 candidates, totalling 1080 fits\n",
      "Best parameters: {'bootstrap': True, 'max_depth': 5, 'min_samples_leaf': 4, 'min_samples_split': 2, 'n_estimators': 100}\n"
     ]
    }
   ],
   "source": [
    "#The best one is Random Forest\n",
    "clf = RandomForestClassifier()\n",
    "clf.fit(X_train, y_train)\n",
    "y_pred = clf.predict(X_test)\n",
    "\n",
    "print(accuracy_score(y_test, y_pred))\n",
    "\n",
    "#Searching best parameters by Grid Search\n",
    "param_grid = {\n",
    "    'n_estimators': [50, 100, 200],    \n",
    "    'max_depth': [None, 5, 10, 20],           \n",
    "    'min_samples_split': [2, 5, 10],          \n",
    "    'min_samples_leaf': [1, 2, 4],            \n",
    "    'bootstrap': [True, False]}\n",
    "\n",
    "grid_search = GridSearchCV(\n",
    "    estimator=clf,\n",
    "    param_grid=param_grid,\n",
    "    cv=5,\n",
    "    n_jobs=-1,    \n",
    "    verbose=2)\n",
    "grid_search.fit(X_train, y_train)\n",
    "\n",
    "print(\"Best parameters:\", grid_search.best_params_)\n"
   ]
  },
  {
   "cell_type": "code",
   "execution_count": 68,
   "id": "e51c8b73-27b5-4d25-a37a-3a8def086d4c",
   "metadata": {},
   "outputs": [],
   "source": [
    "#Training the final model and submit our Data Frame with result\n",
    "clf = RandomForestClassifier(bootstrap=True, max_depth=5, min_samples_leaf=4, min_samples_split=2, n_estimators=100, random_state=42)\n",
    "clf.fit(X_train, y_train)\n",
    "\n",
    "y_pred = clf.predict(X_test)\n",
    "\n",
    "accuracy_score(y_test, y_pred)\n",
    "\n",
    "submission_predict = clf.predict(test)\n"
   ]
  },
  {
   "cell_type": "markdown",
   "id": "508be3a3-04ed-4884-ae98-219ef0437422",
   "metadata": {},
   "source": [
    "#### Submission"
   ]
  },
  {
   "cell_type": "code",
   "execution_count": 67,
   "id": "f738904d-c8d1-4edb-a437-b97a35b711be",
   "metadata": {},
   "outputs": [],
   "source": [
    "df = pd.DataFrame({'PassengerId': test_passId.values,\n",
    "                   'Survived': submission_predict})\n",
    "df.to_csv('Titanic.csv', index=False)"
   ]
  }
 ],
 "metadata": {
  "kernelspec": {
   "display_name": "Python 3 (ipykernel)",
   "language": "python",
   "name": "python3"
  },
  "language_info": {
   "codemirror_mode": {
    "name": "ipython",
    "version": 3
   },
   "file_extension": ".py",
   "mimetype": "text/x-python",
   "name": "python",
   "nbconvert_exporter": "python",
   "pygments_lexer": "ipython3",
   "version": "3.11.7"
  }
 },
 "nbformat": 4,
 "nbformat_minor": 5
}
